{
 "cells": [
  {
   "cell_type": "code",
   "execution_count": 1,
   "metadata": {
    "colab": {
     "base_uri": "https://localhost:8080/",
     "height": 670
    },
    "colab_type": "code",
    "executionInfo": {
     "elapsed": 11499,
     "status": "ok",
     "timestamp": 1574409636657,
     "user": {
      "displayName": "강혜원",
      "photoUrl": "",
      "userId": "06284926753362927075"
     },
     "user_tz": -540
    },
    "id": "Xs1LluLmgmyu",
    "outputId": "a9dbca2b-8223-44d7-e736-9497685d8fae"
   },
   "outputs": [
    {
     "name": "stderr",
     "output_type": "stream",
     "text": [
      "Using TensorFlow backend.\n"
     ]
    },
    {
     "name": "stdout",
     "output_type": "stream",
     "text": [
      "WARNING:tensorflow:From C:\\Users\\dnfls\\Anaconda3\\envs\\keras3\\lib\\site-packages\\keras\\backend\\tensorflow_backend.py:4070: The name tf.nn.max_pool is deprecated. Please use tf.nn.max_pool2d instead.\n",
      "\n",
      "WARNING:tensorflow:From C:\\Users\\dnfls\\Anaconda3\\envs\\keras3\\lib\\site-packages\\keras\\backend\\tensorflow_backend.py:422: The name tf.global_variables is deprecated. Please use tf.compat.v1.global_variables instead.\n",
      "\n"
     ]
    }
   ],
   "source": [
    "#훈련시킨 모델 가져오기\n",
    "from keras.models import load_model\n",
    "model=load_model('./virtual_piano_model.h5')"
   ]
  },
  {
   "cell_type": "code",
   "execution_count": 2,
   "metadata": {
    "colab": {
     "base_uri": "https://localhost:8080/",
     "height": 580
    },
    "colab_type": "code",
    "executionInfo": {
     "elapsed": 688,
     "status": "ok",
     "timestamp": 1574409641821,
     "user": {
      "displayName": "강혜원",
      "photoUrl": "",
      "userId": "06284926753362927075"
     },
     "user_tz": -540
    },
    "id": "fmvyQXHKtatH",
    "outputId": "c3f94f91-abda-4d38-c916-3109dae11afc"
   },
   "outputs": [
    {
     "name": "stdout",
     "output_type": "stream",
     "text": [
      "Model: \"sequential_4\"\n",
      "_________________________________________________________________\n",
      "Layer (type)                 Output Shape              Param #   \n",
      "=================================================================\n",
      "conv2d_13 (Conv2D)           (None, 103, 498, 32)      896       \n",
      "_________________________________________________________________\n",
      "conv2d_14 (Conv2D)           (None, 101, 496, 32)      9248      \n",
      "_________________________________________________________________\n",
      "max_pooling2d_7 (MaxPooling2 (None, 50, 248, 32)       0         \n",
      "_________________________________________________________________\n",
      "dropout_10 (Dropout)         (None, 50, 248, 32)       0         \n",
      "_________________________________________________________________\n",
      "conv2d_15 (Conv2D)           (None, 48, 246, 64)       18496     \n",
      "_________________________________________________________________\n",
      "conv2d_16 (Conv2D)           (None, 46, 244, 64)       36928     \n",
      "_________________________________________________________________\n",
      "max_pooling2d_8 (MaxPooling2 (None, 23, 122, 64)       0         \n",
      "_________________________________________________________________\n",
      "dropout_11 (Dropout)         (None, 23, 122, 64)       0         \n",
      "_________________________________________________________________\n",
      "flatten_4 (Flatten)          (None, 179584)            0         \n",
      "_________________________________________________________________\n",
      "dense_7 (Dense)              (None, 256)               45973760  \n",
      "_________________________________________________________________\n",
      "dropout_12 (Dropout)         (None, 256)               0         \n",
      "_________________________________________________________________\n",
      "dense_8 (Dense)              (None, 8)                 2056      \n",
      "=================================================================\n",
      "Total params: 46,041,384\n",
      "Trainable params: 46,041,384\n",
      "Non-trainable params: 0\n",
      "_________________________________________________________________\n"
     ]
    }
   ],
   "source": [
    "model.summary()"
   ]
  },
  {
   "cell_type": "code",
   "execution_count": 7,
   "metadata": {},
   "outputs": [],
   "source": [
    "#실시간 웹캠 영상 출력\n",
    "import cv2\n",
    "from matplotlib import pyplot as plt\n",
    "from playsound import playsound\n",
    "\n",
    "cap = cv2.VideoCapture(0)\n",
    "cap.set(cv2.CAP_PROP_FRAME_WIDTH,720)\n",
    "cap.set(cv2.CAP_PROP_FRAME_HEIGHT,1280)\n",
    "\n",
    "\n",
    "#현재 웹캠이 연결되어있는지 확인s\n",
    "if not cap.isOpened():\n",
    "    raise IOError(\"Cannot open webcam\")\n",
    "    \n",
    "#원래의 영상과 ROI영상 출력    \n",
    "while True :\n",
    "    ret,frame = cap.read()\n",
    "    cv2.rectangle(frame,(100,443),(720,563),(0,0,255),2) #웹캠 화면에 rectangle 그리기\n",
    "    img_roi=frame[443:563,50:770] #ROI 생성\n",
    "    \n",
    "    cv2.imshow('ROI',img_roi)\n",
    "    cv2.imshow('Webcam', frame)\n",
    "    \n",
    "    c=cv2.waitKey(1)\n",
    "    if c == 27: #아스키코드 27=ESC키 ,ESC를 누르면 종료\n",
    "        break\n",
    "        \n",
    "#release는 웹캠을 적절하게 마무리시켜줌\n",
    "cap.release()\n",
    "cv2.destroyAllWindows()"
   ]
  },
  {
   "cell_type": "code",
   "execution_count": 9,
   "metadata": {},
   "outputs": [],
   "source": [
    "#실시간 웹캠 영상 출력\n",
    "import cv2\n",
    "from matplotlib import pyplot as plt\n",
    "from playsound import playsound\n",
    "\n",
    "cap = cv2.VideoCapture(0)\n",
    "cap.set(cv2.CAP_PROP_FRAME_WIDTH,720)\n",
    "cap.set(cv2.CAP_PROP_FRAME_HEIGHT,1280)\n",
    "\n",
    "\n",
    "#현재 웹캠이 연결되어있는지 확인s\n",
    "if not cap.isOpened():\n",
    "    raise IOError(\"Cannot open webcam\")\n",
    "    \n",
    "#원래의 영상과 ROI영상 출력    \n",
    "while True :\n",
    "    ret,frame = cap.read()\n",
    "    if ret == False:\n",
    "        break;\n",
    "\n",
    "    cv2.rectangle(frame,(100,443),(720,563),(0,0,255),2) #웹캠 화면에 rectangle 그리기\n",
    "    img_roi=frame[443:563,100:720] #ROI 생성\n",
    "    \n",
    "    img=img_roi\n",
    "    #img=img.resize(105,500,3)\n",
    "    dst = cv2.resize(img, dsize=(500,105), interpolation=cv2.INTER_AREA)\n",
    "    dst=dst.reshape(1,105,500,3)\n",
    "    \n",
    "    predict = model.predict_classes(dst)\n",
    "    \n",
    "    if predict==[0]:\n",
    "        playsound(\"./piano_sounds/a4.wav\")\n",
    "    elif predict==[1]:\n",
    "        playsound(\"./piano_sounds/b4.wav\")\n",
    "    elif predict==[2]:\n",
    "        playsound(\"./piano_sounds/c4.wav\")\n",
    "    elif predict==[3]:\n",
    "        playsound(\"./piano_sounds/c5.wav\")\n",
    "    elif predict==[4]:\n",
    "        playsound(\"./piano_sounds/d4.wav\")\n",
    "    elif predict==[5]:\n",
    "        playsound(\"./piano_sounds/e4.wav\")\n",
    "    elif predict==[6]:\n",
    "        playsound(\"./piano_sounds/f4.wav\")\n",
    "    elif predict==[7]:\n",
    "        playsound(\"./piano_sounds/g4.wav\")\n",
    "    else:\n",
    "        print(\"can't play piano\")\n",
    "\n",
    "    #cv2.imshow('ROI',img_roi)\n",
    "    cv2.imshow('Webcam', frame)   \n",
    "    c=cv2.waitKey(1)\n",
    "    if c == 27: #아스키코드 27=ESC키 ,ESC를 누르면 종료\n",
    "        break\n",
    "        \n",
    "#release는 웹캠을 적절하게 마무리시켜줌\n",
    "cap.release()\n",
    "cv2.destroyAllWindows()"
   ]
  },
  {
   "cell_type": "code",
   "execution_count": null,
   "metadata": {},
   "outputs": [],
   "source": []
  },
  {
   "cell_type": "code",
   "execution_count": null,
   "metadata": {},
   "outputs": [],
   "source": []
  }
 ],
 "metadata": {
  "accelerator": "GPU",
  "colab": {
   "collapsed_sections": [],
   "machine_shape": "hm",
   "name": "virtual_piano_model_Ekfh.ipynb",
   "provenance": []
  },
  "kernelspec": {
   "display_name": "Python 3",
   "language": "python",
   "name": "python3"
  },
  "language_info": {
   "codemirror_mode": {
    "name": "ipython",
    "version": 3
   },
   "file_extension": ".py",
   "mimetype": "text/x-python",
   "name": "python",
   "nbconvert_exporter": "python",
   "pygments_lexer": "ipython3",
   "version": "3.7.4"
  }
 },
 "nbformat": 4,
 "nbformat_minor": 1
}
