{
 "cells": [
  {
   "cell_type": "code",
   "execution_count": 1,
   "metadata": {},
   "outputs": [
    {
     "ename": "OSError",
     "evalue": "Cannot open webcam",
     "output_type": "error",
     "traceback": [
      "\u001b[1;31m---------------------------------------------------------------------------\u001b[0m",
      "\u001b[1;31mOSError\u001b[0m                                   Traceback (most recent call last)",
      "\u001b[1;32m<ipython-input-1-1f718d904ad1>\u001b[0m in \u001b[0;36m<module>\u001b[1;34m\u001b[0m\n\u001b[0;32m      9\u001b[0m \u001b[1;31m#현재 웹캠이 연결되어있는지 확인s\u001b[0m\u001b[1;33m\u001b[0m\u001b[1;33m\u001b[0m\u001b[1;33m\u001b[0m\u001b[0m\n\u001b[0;32m     10\u001b[0m \u001b[1;32mif\u001b[0m \u001b[1;32mnot\u001b[0m \u001b[0mcap\u001b[0m\u001b[1;33m.\u001b[0m\u001b[0misOpened\u001b[0m\u001b[1;33m(\u001b[0m\u001b[1;33m)\u001b[0m\u001b[1;33m:\u001b[0m\u001b[1;33m\u001b[0m\u001b[1;33m\u001b[0m\u001b[0m\n\u001b[1;32m---> 11\u001b[1;33m     \u001b[1;32mraise\u001b[0m \u001b[0mIOError\u001b[0m\u001b[1;33m(\u001b[0m\u001b[1;34m\"Cannot open webcam\"\u001b[0m\u001b[1;33m)\u001b[0m\u001b[1;33m\u001b[0m\u001b[1;33m\u001b[0m\u001b[0m\n\u001b[0m\u001b[0;32m     12\u001b[0m \u001b[1;33m\u001b[0m\u001b[0m\n\u001b[0;32m     13\u001b[0m \u001b[1;31m#원래의 영상과 ROI영상 출력\u001b[0m\u001b[1;33m\u001b[0m\u001b[1;33m\u001b[0m\u001b[1;33m\u001b[0m\u001b[0m\n",
      "\u001b[1;31mOSError\u001b[0m: Cannot open webcam"
     ]
    }
   ],
   "source": [
    "#실시간 웹캠 영상 출력\n",
    "import cv2\n",
    "\n",
    "cap = cv2.VideoCapture(0)\n",
    "cap.set(cv2.CAP_PROP_FRAME_WIDTH,720)\n",
    "cap.set(cv2.CAP_PROP_FRAME_HEIGHT,1280)\n",
    "\n",
    "\n",
    "#현재 웹캠이 연결되어있는지 확인s\n",
    "if not cap.isOpened():\n",
    "    raise IOError(\"Cannot open webcam\")\n",
    "    \n",
    "#원래의 영상과 ROI영상 출력    \n",
    "while True :\n",
    "    ret,frame = cap.read()\n",
    "    #frame.resize(720,1280)\n",
    "    cv2.rectangle(frame,(10,300),(630,450),(0,0,255),2) #웹캠 화면에 rectangle 그리기\n",
    "    img_roi=frame[300:450,10:630] #ROI 생성\n",
    "    cv2.imshow('Webcam', frame)\n",
    "    cv2.imshow('ROI',img_roi)\n",
    "    c=cv2.waitKey(1)\n",
    "    if c == 27: #아스키코드 27=ESC키 ,ESC를 누르면 종료\n",
    "        break\n",
    "        \n",
    "#release는 웹캠을 적절하게 마무리시켜줌\n",
    "cap.release()\n",
    "cv2.destroyAllWindows()\n",
    "\n",
    "frame.shape\n"
   ]
  },
  {
   "cell_type": "code",
   "execution_count": 6,
   "metadata": {},
   "outputs": [],
   "source": [
    "?cv2.CAP_DSHOW"
   ]
  },
  {
   "cell_type": "code",
   "execution_count": 49,
   "metadata": {},
   "outputs": [
    {
     "data": {
      "text/plain": [
       "(720, 1280, 3)"
      ]
     },
     "execution_count": 49,
     "metadata": {},
     "output_type": "execute_result"
    }
   ],
   "source": [
    "#ROI생성용 rectangle을 그리기 위한 좌표 받기\n",
    "\n",
    "import cv2\n",
    "import numpy as np\n",
    "\n",
    "cap_ori=cv2.imread('./capture/a4/2019-11-08_17-28-58.jpg')\n",
    "\n",
    "# callback함수\n",
    "def find_xy(event, x, y, flags, param):\n",
    "    if event == cv2.EVENT_LBUTTONDBLCLK:\n",
    "        print(x,y)\n",
    "        \n",
    "cv2.namedWindow('image')\n",
    "cv2.setMouseCallback('image', find_xy)\n",
    "\n",
    "cv2.imshow('image', cap_ori)\n",
    "cv2.waitKey(0)\n",
    "cv2.destroyAllWindows()\n",
    "\n",
    "cap_ori.shape"
   ]
  },
  {
   "cell_type": "code",
   "execution_count": 36,
   "metadata": {},
   "outputs": [],
   "source": [
    "#rectangle 그리기\n",
    "cap_ori=cv2.imread('./capture/f4/2019-11-08_18-39-10.jpg')\n",
    "cap=cap_ori.copy()\n",
    "\n",
    "cv2.rectangle(cap,(2,600),(1260,300),(0,0,255),3)\n",
    "\n",
    "cv2.imshow('image', cap)\n",
    "cv2.waitKey(0)\n",
    "cv2.destroyAllWindows()"
   ]
  },
  {
   "cell_type": "code",
   "execution_count": 10,
   "metadata": {},
   "outputs": [],
   "source": [
    "#image ROI 설정\n",
    "img_roi=cap[300:600,2:1260]\n",
    "cv2.imshow('image_roi', img_roi)\n",
    "cv2.waitKey(0)\n",
    "cv2.destroyAllWindows()"
   ]
  },
  {
   "cell_type": "code",
   "execution_count": null,
   "metadata": {},
   "outputs": [],
   "source": []
  }
 ],
 "metadata": {
  "kernelspec": {
   "display_name": "Python 3",
   "language": "python",
   "name": "python3"
  },
  "language_info": {
   "codemirror_mode": {
    "name": "ipython",
    "version": 3
   },
   "file_extension": ".py",
   "mimetype": "text/x-python",
   "name": "python",
   "nbconvert_exporter": "python",
   "pygments_lexer": "ipython3",
   "version": "3.7.4"
  }
 },
 "nbformat": 4,
 "nbformat_minor": 2
}
