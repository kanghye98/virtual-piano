{
 "cells": [
  {
   "cell_type": "code",
   "execution_count": 2,
   "metadata": {},
   "outputs": [],
   "source": [
    "#실시간 웹캠 영상 출력\n",
    "import cv2\n",
    "\n",
    "cap = cv2.VideoCapture(0)\n",
    "\n",
    "#현재 웹캠이 연결되어있는지 확인\n",
    "if not cap.isOpened():\n",
    "    raise IOError(\"Cannot open webcam\")\n",
    "    \n",
    "while True :\n",
    "    ret,frame = cap.read()\n",
    "    cv2.imshow('Webcam',frame)\n",
    "    c=cv2.waitKey(1)\n",
    "    if c == 27: #아스키코드 27=ESC키\n",
    "        break\n",
    "        \n",
    "#release는 웹캠을 적절하게 마무리시켜줌\n",
    "cap.release()\n",
    "cv2.destroyAllWindows()"
   ]
  },
  {
   "cell_type": "code",
   "execution_count": 52,
   "metadata": {},
   "outputs": [],
   "source": [
    "#ROI생성용 rectangle을 그리기 위한 좌표 받기\n",
    "\n",
    "import cv2\n",
    "import numpy as np\n",
    "\n",
    "cap_ori=cv2.imread('./capture/a4/2019-11-08_17-28-58.jpg')\n",
    "\n",
    "# callback함수\n",
    "def find_xy(event, x, y, flags, param):\n",
    "    if event == cv2.EVENT_LBUTTONDBLCLK:\n",
    "        print(x,y)\n",
    "        \n",
    "cv2.namedWindow('image')\n",
    "cv2.setMouseCallback('image', find_xy)\n",
    "\n",
    "cv2.imshow('image', cap)\n",
    "cv2.waitKey(0)\n",
    "cv2.destroyAllWindows()"
   ]
  },
  {
   "cell_type": "code",
   "execution_count": 49,
   "metadata": {},
   "outputs": [],
   "source": [
    "#rectangle 그리기\n",
    "cap_ori=cv2.imread('./capture/a4/2019-11-08_17-28-58.jpg')\n",
    "cap=cap_ori.copy()\n",
    "\n",
    "cv2.rectangle(cap,(2,638),(1260,350),(0,0,255),3)\n",
    "\n",
    "cv2.imshow('image', cap)\n",
    "cv2.waitKey(0)\n",
    "cv2.destroyAllWindows()"
   ]
  },
  {
   "cell_type": "code",
   "execution_count": 56,
   "metadata": {},
   "outputs": [],
   "source": [
    "#image ROI 설정\n",
    "img_roi=cap[350:638,2:1260]\n",
    "cv2.imshow('image_roi', img_roi)\n",
    "cv2.waitKey(0)\n",
    "cv2.destroyAllWindows()"
   ]
  },
  {
   "cell_type": "code",
   "execution_count": null,
   "metadata": {},
   "outputs": [],
   "source": []
  }
 ],
 "metadata": {
  "kernelspec": {
   "display_name": "Python 3",
   "language": "python",
   "name": "python3"
  },
  "language_info": {
   "codemirror_mode": {
    "name": "ipython",
    "version": 3
   },
   "file_extension": ".py",
   "mimetype": "text/x-python",
   "name": "python",
   "nbconvert_exporter": "python",
   "pygments_lexer": "ipython3",
   "version": "3.7.4"
  }
 },
 "nbformat": 4,
 "nbformat_minor": 2
}
