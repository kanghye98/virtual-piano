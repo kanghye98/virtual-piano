{
 "cells": [
  {
   "cell_type": "code",
   "execution_count": 21,
   "metadata": {},
   "outputs": [],
   "source": [
    "import pygame"
   ]
  },
  {
   "cell_type": "code",
   "execution_count": 22,
   "metadata": {},
   "outputs": [
    {
     "data": {
      "text/plain": [
       "(6, 0)"
      ]
     },
     "execution_count": 22,
     "metadata": {},
     "output_type": "execute_result"
    }
   ],
   "source": [
    "pg.init()"
   ]
  },
  {
   "cell_type": "code",
   "execution_count": 23,
   "metadata": {},
   "outputs": [
    {
     "data": {
      "text/plain": [
       "(480, 640, 3)"
      ]
     },
     "execution_count": 23,
     "metadata": {},
     "output_type": "execute_result"
    }
   ],
   "source": [
    "#실시간 웹캠 영상 출력\n",
    "import cv2\n",
    "\n",
    "cap = cv2.VideoCapture(0)\n",
    "cap.set(cv2.CAP_PROP_FRAME_WIDTH,720)\n",
    "cap.set(cv2.CAP_PROP_FRAME_HEIGHT,1280)\n",
    "\n",
    "\n",
    "#현재 웹캠이 연결되어있는지 확인s\n",
    "if not cap.isOpened():\n",
    "    raise IOError(\"Cannot open webcam\")\n",
    "    \n",
    "#원래의 영상과 ROI영상 출력    \n",
    "while True :\n",
    "    ret,frame = cap.read()\n",
    "    #frame.resize(720,1280)\n",
    "    cv2.rectangle(frame,(10,300),(630,450),(0,0,255),2) #웹캠 화면에 rectangle 그리기\n",
    "    img_roi=frame[300:450,10:630] #ROI 생성\n",
    "    cv2.imshow('Webcam', frame)\n",
    "    cv2.imshow('ROI',img_roi)\n",
    "    c=cv2.waitKey(1)\n",
    "    if c == 27: #아스키코드 27=ESC키 ,ESC를 누르면 종료\n",
    "        break\n",
    "        \n",
    "#release는 웹캠을 적절하게 마무리시켜줌\n",
    "cap.release()\n",
    "cv2.destroyAllWindows()\n",
    "\n",
    "frame.shape"
   ]
  },
  {
   "cell_type": "code",
   "execution_count": 24,
   "metadata": {},
   "outputs": [
    {
     "data": {
      "text/plain": [
       "(720, 1280, 3)"
      ]
     },
     "execution_count": 24,
     "metadata": {},
     "output_type": "execute_result"
    }
   ],
   "source": [
    "#ROI생성용 rectangle을 그리기 위한 좌표 받기\n",
    "\n",
    "import cv2\n",
    "import numpy as np\n",
    "\n",
    "cap_ori=cv2.imread('./capture/a4/2019-11-08_17-28-58.jpg')\n",
    "\n",
    "# callback함수\n",
    "def find_xy(event, x, y, flags, param):\n",
    "    if event == cv2.EVENT_LBUTTONDBLCLK:\n",
    "        print(x,y)\n",
    "        \n",
    "cv2.namedWindow('image')\n",
    "cv2.setMouseCallback('image', find_xy)\n",
    "\n",
    "cv2.imshow('image', cap_ori)\n",
    "cv2.waitKey(0)\n",
    "cv2.destroyAllWindows()\n",
    "\n",
    "cap_ori.shape"
   ]
  },
  {
   "cell_type": "code",
   "execution_count": 25,
   "metadata": {},
   "outputs": [],
   "source": [
    "#rectangle 그리기\n",
    "cap_ori=cv2.imread('./capture/f4/2019-11-08_18-39-10.jpg')\n",
    "cap=cap_ori.copy()\n",
    "\n",
    "cv2.rectangle(cap,(2,600),(1260,300),(0,0,255),3)\n",
    "\n",
    "cv2.imshow('image', cap)\n",
    "cv2.waitKey(0)\n",
    "cv2.destroyAllWindows()"
   ]
  },
  {
   "cell_type": "code",
   "execution_count": 26,
   "metadata": {},
   "outputs": [],
   "source": [
    "#image ROI 설정\n",
    "img_roi=cap[300:600,2:1260]\n",
    "cv2.imshow('image_roi', img_roi)\n",
    "cv2.waitKey(0)\n",
    "cv2.destroyAllWindows()"
   ]
  },
  {
   "cell_type": "code",
   "execution_count": 28,
   "metadata": {},
   "outputs": [],
   "source": [
    "#white=(255,255,255)\n",
    "#font = pygame.font.SysFont(\"comicsansms\",72)\n",
    "#text = font.reader(\"Byrobot Python Piano\",True,(0,128,0))\n",
    "\n",
    "#pyscreen = pygame.display.set_mode((1024,768),0,32)\n",
    "#pyscreen.fill(white)\n",
    "#pyscreen.blit(text,(512 - text.get_width() // 2, 384 - text.get_height() // 2))\n",
    "#pygame.display.flip()"
   ]
  },
  {
   "cell_type": "code",
   "execution_count": 29,
   "metadata": {},
   "outputs": [],
   "source": [
    "run = True"
   ]
  },
  {
   "cell_type": "code",
   "execution_count": 30,
   "metadata": {},
   "outputs": [],
   "source": [
    "c4 = pygame.mixer.Sound('./piano_sounds/c4.wav')\n",
    "d4 = pygame.mixer.Sound('./piano_sounds/d4.wav')\n",
    "e4 = pygame.mixer.Sound('./piano_sounds/e4.wav')\n",
    "f4 = pygame.mixer.Sound('./piano_sounds/f4.wav')\n",
    "g4 = pygame.mixer.Sound('./piano_sounds/g4.wav')\n",
    "a4 = pygame.mixer.Sound('./piano_sounds/a4.wav')\n",
    "b4 = pygame.mixer.Sound('./piano_sounds/b4.wav')\n",
    "c5 = pygame.mixer.Sound('./piano_sounds/c5.wav')"
   ]
  },
  {
   "cell_type": "code",
   "execution_count": null,
   "metadata": {},
   "outputs": [],
   "source": [
    "while run:\n",
    "    for event in pygame.event.get():\n",
    "        if event.type == pygame.KEYDOWN:\n",
    "            if event.key == pygame.K_ESCAPE:\n",
    "                run = False\n",
    "\n",
    "            elif event.key == pygame.K_u:\n",
    "                c4.play()\n",
    "\n",
    "            elif event.key == pygame.K_y:\n",
    "                d4.play()\n",
    "\n",
    "            elif event.key == pygame.K_t:\n",
    "                e4.play()\n",
    "\n",
    "            elif event.key == pygame.K_r:\n",
    "                f4.play()\n",
    "\n",
    "            elif event.key == pygame.K_e:\n",
    "                g4.play()\n",
    "\n",
    "            elif event.key == pygame.K_w:\n",
    "                a4.play()\n",
    "\n",
    "            elif event.key == pygame.K_q:\n",
    "                b4.play()\n",
    "\n",
    "            elif event.key == pygame.K_a:\n",
    "                c5.play()\n",
    "\n",
    "                \n",
    "pygame.quit()"
   ]
  },
  {
   "cell_type": "code",
   "execution_count": null,
   "metadata": {},
   "outputs": [],
   "source": [
    "#cv2.imshow('img', img)\n",
    "#cv2.waitKey(0)\n",
    "#cv2.destroyAllWindows()"
   ]
  },
  {
   "cell_type": "code",
   "execution_count": null,
   "metadata": {},
   "outputs": [],
   "source": []
  }
 ],
 "metadata": {
  "kernelspec": {
   "display_name": "Python 3",
   "language": "python",
   "name": "python3"
  },
  "language_info": {
   "codemirror_mode": {
    "name": "ipython",
    "version": 3
   },
   "file_extension": ".py",
   "mimetype": "text/x-python",
   "name": "python",
   "nbconvert_exporter": "python",
   "pygments_lexer": "ipython3",
   "version": "3.7.4"
  }
 },
 "nbformat": 4,
 "nbformat_minor": 4
}
